{
 "cells": [
  {
   "cell_type": "code",
   "execution_count": 7,
   "metadata": {},
   "outputs": [
    {
     "name": "stdout",
     "output_type": "stream",
     "text": [
      "Macronutrient estimate for 'burger':\n",
      "A typical serving of a burger can vary greatly depending on the type of patty, bun, toppings, and condiments. However, I can provide an estimate based on a standard burger with a beef patty, lettuce, tomato, cheese, and a sesame seed bun.\n",
      "\n",
      "Here's a breakdown of the estimated macronutrients in a typical serving of a burger:\n",
      "\n",
      "* Protein: 35-40 grams (from the beef patty)\n",
      "\t+ 100g ground beef: 26g protein\n",
      "\t+ Assuming a 120g patty, the protein content would be approximately 26g x (120g/100g) = 31.2g\n",
      "\t+ Adding the protein from cheese, lettuce, and tomato (about 3-4g), we get a total of 35-40g protein\n",
      "* Carbohydrates: 30-40 grams (from the bun, cheese, and tomato)\n",
      "\t+ Sesame seed bun: 20-25g carbohydrates\n",
      "\t+ Cheese: 6-8g carbohydrates\n",
      "\t+ Tomato: 2-3g carbohydrates\n",
      "\t+ Lettuce: negligible carbohydrates\n",
      "\tTotal: 30-40g carbohydrates\n",
      "* Fat: 25-30 grams (from the beef patty, cheese, and bun)\n",
      "\t+ Sesame seed bun: 3-4g fat\n",
      "\t+ Cheese: 10-12g fat\n",
      "\t+ Beef patty: 15-18g fat (depending on the cut and fat content)\n",
      "\tTotal: 25-30g fat\n",
      "\n",
      "So, a typical serving of a burger with a beef patty, lettuce, tomato, cheese, and a sesame seed bun may contain approximately:\n",
      "\n",
      "* 35-40g protein\n",
      "* 30-40g carbohydrates\n",
      "* 25-30g fat\n",
      "\n",
      "Please note that these estimates can vary significantly depending on the specific ingredients and brands used.\n"
     ]
    }
   ],
   "source": [
    "import os\n",
    "from groq import Groq\n",
    "\n",
    "client = Groq(\n",
    "    api_key=os.environ.get(\"GROQ_API_KEY\"),\n",
    ")\n",
    "\n",
    "food_item = input(\"Enter the food item you ate (e.g., 'hot dog'): \")\n",
    "\n",
    "chat_completion = client.chat.completions.create(\n",
    "    messages=[\n",
    "        {\n",
    "            \"role\": \"user\",\n",
    "            \"content\": f\"Estimate the macronutrients (protein, carbohydrates, and fat) in grams for a typical serving of {food_item}. Provide the answer in grams.\"\n",
    "        }\n",
    "    ],\n",
    "    model=\"llama3-8b-8192\",\n",
    ")\n",
    "\n",
    "print(f\"Macronutrient estimate for '{food_item}':\\n{chat_completion.choices[0].message.content}\")"
   ]
  }
 ],
 "metadata": {
  "kernelspec": {
   "display_name": "Python 3",
   "language": "python",
   "name": "python3"
  },
  "language_info": {
   "codemirror_mode": {
    "name": "ipython",
    "version": 3
   },
   "file_extension": ".py",
   "mimetype": "text/x-python",
   "name": "python",
   "nbconvert_exporter": "python",
   "pygments_lexer": "ipython3",
   "version": "3.9.6"
  }
 },
 "nbformat": 4,
 "nbformat_minor": 2
}
